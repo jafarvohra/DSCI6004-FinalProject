{
  "nbformat": 4,
  "nbformat_minor": 0,
  "metadata": {
    "colab": {
      "provenance": [],
      "gpuType": "T4"
    },
    "kernelspec": {
      "name": "python3",
      "display_name": "Python 3"
    },
    "language_info": {
      "name": "python"
    },
    "accelerator": "GPU"
  },
  "cells": [
    {
      "cell_type": "code",
      "source": [
        "!pip install jsonlines"
      ],
      "metadata": {
        "colab": {
          "base_uri": "https://localhost:8080/"
        },
        "id": "IZP2O8jIVuNZ",
        "outputId": "940310bb-7a66-4ec0-fa54-e404fd6dbfaf"
      },
      "execution_count": null,
      "outputs": [
        {
          "output_type": "stream",
          "name": "stdout",
          "text": [
            "Collecting jsonlines\n",
            "  Downloading jsonlines-4.0.0-py3-none-any.whl.metadata (1.6 kB)\n",
            "Requirement already satisfied: attrs>=19.2.0 in /usr/local/lib/python3.10/dist-packages (from jsonlines) (24.2.0)\n",
            "Downloading jsonlines-4.0.0-py3-none-any.whl (8.7 kB)\n",
            "Installing collected packages: jsonlines\n",
            "Successfully installed jsonlines-4.0.0\n"
          ]
        }
      ]
    },
    {
      "cell_type": "code",
      "source": [
        "import torch\n",
        "import h5py\n",
        "import json\n",
        "import jsonlines\n",
        "import numpy as np\n",
        "import pandas as pd\n",
        "from sklearn.model_selection import train_test_split\n",
        "from sklearn.metrics import accuracy_score, precision_score, recall_score, f1_score, roc_auc_score, roc_curve, confusion_matrix, classification_report\n",
        "from torch.utils.data import Dataset, DataLoader\n",
        "from torch import nn\n",
        "from torch.optim import Adam\n",
        "\n",
        "TEXT_JSON = '/content/drive/MyDrive/UNH Data Science Courses/DSCI 6004 - NLP/Final Project/data/sarcasm_data.json'\n",
        "AUDIO_PICKLE = '/content/drive/MyDrive/UNH Data Science Courses/DSCI 6004 - NLP/Final Project/data/audio_features.p'\n",
        "BERT_UTTERANCE_EMBEDDINGS = '/content/drive/MyDrive/UNH Data Science Courses/DSCI 6004 - NLP/Final Project/data/bert-output.jsonl'\n",
        "BERT_CONTEXT_EMBEDDINGS = '/content/drive/MyDrive/UNH Data Science Courses/DSCI 6004 - NLP/Final Project/data/bert-output-context.jsonl'\n",
        "VISUAL_UTTERANCE = '/content/drive/MyDrive/UNH Data Science Courses/DSCI 6004 - NLP/Final Project/data/features/utterances_final/resnet_pool5.hdf5'\n",
        "VISUAL_CONTEXT = '/content/drive/MyDrive/UNH Data Science Courses/DSCI 6004 - NLP/Final Project/data/features/context_final/resnet_pool5.hdf5'"
      ],
      "metadata": {
        "id": "p_T5gUgRUSoY"
      },
      "execution_count": null,
      "outputs": []
    },
    {
      "cell_type": "code",
      "source": [
        "# Check for GPU availability\n",
        "device = torch.device(\"cuda\" if torch.cuda.is_available() else \"cpu\")"
      ],
      "metadata": {
        "id": "HcaSTCCkcbdw"
      },
      "execution_count": null,
      "outputs": []
    },
    {
      "cell_type": "code",
      "source": [
        "# Load text data\n",
        "with open(TEXT_JSON, 'r') as f:\n",
        "    sarcasm_data = json.load(f)\n",
        "\n",
        "# Load visual data\n",
        "utterance_visual_data = h5py.File(VISUAL_UTTERANCE)\n",
        "context_visual_data = h5py.File(VISUAL_CONTEXT)\n",
        "\n",
        "# Extract visual features for context and utterances\n",
        "context_features = {key: context_visual_data[key][...] for key in context_visual_data.keys()}\n",
        "utterance_features = {key: utterance_visual_data[key][...] for key in utterance_visual_data.keys()}\n",
        "\n",
        "# Load audio features\n",
        "audio_features = pd.read_pickle(AUDIO_PICKLE)\n",
        "\n",
        "# Load BERT embeddings for utterances\n",
        "text_bert_embeddings = []\n",
        "with jsonlines.open(BERT_UTTERANCE_EMBEDDINGS) as utterances:\n",
        "  for utterance in utterances:\n",
        "    features = utterance[\"features\"][0]\n",
        "    bert_embedding_target = np.mean([np.array(features[\"layers\"][layer][\"values\"]) for layer in range(4)], axis=0)\n",
        "    text_bert_embeddings.append(np.copy(bert_embedding_target))\n",
        "\n",
        "# Load BERT embeddings for context\n",
        "with jsonlines.open(BERT_CONTEXT_EMBEDDINGS) as utterances:\n",
        "  context_utterance_embeddings = []\n",
        "  for utterance in utterances:\n",
        "    features = utterance[\"features\"][0]\n",
        "    bert_embedding_target = np.mean([np.array(features[\"layers\"][layer][\"values\"]) for layer in [0, 1, 2, 3]], axis=0)\n",
        "    context_utterance_embeddings.append(np.copy(bert_embedding_target))"
      ],
      "metadata": {
        "id": "Mpty-w8sPxYn"
      },
      "execution_count": null,
      "outputs": []
    },
    {
      "cell_type": "code",
      "source": [
        "class SarcasmDataset(Dataset):\n",
        "    def __init__(self, sarcasm_data, audio_features, utterance_visual_data, context_visual_data, text_bert_embeddings, context_utterance_embeddings):\n",
        "        self.data = sarcasm_data\n",
        "        self.audio_features = audio_features\n",
        "        self.utterance_visual_data = utterance_visual_data\n",
        "        self.context_visual_data = context_visual_data\n",
        "        self.text_bert_embeddings = text_bert_embeddings\n",
        "        self.context_utterance_embeddings = context_utterance_embeddings\n",
        "\n",
        "        # Calculate feature lengths based on the dataset\n",
        "        self.max_text_embedding_length = len(text_bert_embeddings[0])\n",
        "        self.max_context_embedding_length = len(context_utterance_embeddings[0])\n",
        "        self.max_audio_feature_length = max(audio_features[id_].size for id_ in audio_features.keys())\n",
        "        self.max_visual_utterance_length = max(np.prod(utterance_visual_data[id_].shape) for id_ in utterance_visual_data.keys())\n",
        "        self.max_visual_context_length = max(np.prod(context_visual_data[id_].shape) for id_ in context_visual_data.keys())\n",
        "\n",
        "    def __len__(self):\n",
        "        return len(self.data)\n",
        "\n",
        "    def __getitem__(self, idx):\n",
        "        id_ = list(self.data.keys())[idx]\n",
        "        sample = self.data[id_]\n",
        "\n",
        "        # Retrieve features\n",
        "        text_embedding = torch.tensor(self.text_bert_embeddings[idx]).float()\n",
        "        context_embedding = torch.tensor(self.context_utterance_embeddings[idx]).float()\n",
        "        audio_feature = torch.tensor(np.array(self.audio_features.get(id_, np.zeros(self.max_audio_feature_length)))).flatten().float()\n",
        "        visual_utterance_feature = torch.tensor(np.array(self.utterance_visual_data.get(id_, np.zeros(self.max_visual_utterance_length)))).flatten().float()\n",
        "        visual_context_feature = torch.tensor(np.array(self.context_visual_data.get(id_, np.zeros(self.max_visual_context_length)))).flatten().float()\n",
        "\n",
        "        # Pad features to ensure uniform length\n",
        "        text_embedding = torch.nn.functional.pad(text_embedding, (0, self.max_text_embedding_length - text_embedding.size(0)))\n",
        "        context_embedding = torch.nn.functional.pad(context_embedding, (0, self.max_context_embedding_length - context_embedding.size(0)))\n",
        "        audio_feature = torch.nn.functional.pad(audio_feature, (0, self.max_audio_feature_length - audio_feature.size(0)))\n",
        "        visual_utterance_feature = torch.nn.functional.pad(visual_utterance_feature, (0, self.max_visual_utterance_length - visual_utterance_feature.size(0)))\n",
        "        visual_context_feature = torch.nn.functional.pad(visual_context_feature, (0, self.max_visual_context_length - visual_context_feature.size(0)))\n",
        "\n",
        "        # Combine all features\n",
        "        combined_features = torch.cat([\n",
        "            text_embedding,\n",
        "            context_embedding,\n",
        "            audio_feature,\n",
        "            visual_utterance_feature,\n",
        "            visual_context_feature\n",
        "        ])\n",
        "\n",
        "        # Label\n",
        "        label = torch.tensor(int(sample[\"sarcasm\"])).long()\n",
        "\n",
        "        return combined_features, label\n",
        "\n",
        "# Create dataset\n",
        "dataset = SarcasmDataset(\n",
        "    sarcasm_data, audio_features, utterance_visual_data, context_visual_data, text_bert_embeddings, context_utterance_embeddings\n",
        ")\n",
        "\n",
        "# Split dataset\n",
        "train_size = int(0.8 * len(dataset))\n",
        "test_size = len(dataset) - train_size\n",
        "train_dataset, test_dataset = torch.utils.data.random_split(dataset, [train_size, test_size])\n",
        "\n",
        "# Create data loaders\n",
        "train_loader = DataLoader(train_dataset, batch_size=32, shuffle=True)\n",
        "test_loader = DataLoader(test_dataset, batch_size=32)"
      ],
      "metadata": {
        "id": "fMpzuw4RbWMp"
      },
      "execution_count": null,
      "outputs": []
    },
    {
      "cell_type": "code",
      "source": [
        "class SarcasmDetectionModel(nn.Module):\n",
        "    def __init__(self, input_size, hidden_size, num_classes):\n",
        "        super(SarcasmDetectionModel, self).__init__()\n",
        "        self.fc1 = nn.Linear(input_size, hidden_size)\n",
        "        self.relu = nn.ReLU()\n",
        "        self.fc2 = nn.Linear(hidden_size, num_classes)\n",
        "        self.softmax = nn.Softmax(dim=1)\n",
        "        self.dropout = nn.Dropout(0.25)\n",
        "\n",
        "    def forward(self, x):\n",
        "        x = self.fc1(x)\n",
        "        x = self.relu(x)\n",
        "        x = self.dropout(x)\n",
        "        x = self.fc2(x)\n",
        "        return self.softmax(x)\n",
        "\n",
        "# Initialize model\n",
        "input_size = dataset.max_text_embedding_length + dataset.max_context_embedding_length + dataset.max_audio_feature_length + dataset.max_visual_utterance_length + dataset.max_visual_context_length\n",
        "hidden_size = 32\n",
        "num_classes = 2\n",
        "\n",
        "model = SarcasmDetectionModel(input_size, hidden_size, num_classes).to(device)"
      ],
      "metadata": {
        "id": "BiM1M-AQVDoD"
      },
      "execution_count": null,
      "outputs": []
    },
    {
      "cell_type": "code",
      "source": [
        "criterion = nn.CrossEntropyLoss()\n",
        "optimizer = Adam(model.parameters(), lr=0.001)\n",
        "\n",
        "# Training loop\n",
        "epochs = 5\n",
        "for epoch in range(epochs):\n",
        "    model.train()\n",
        "    running_loss = 0.0\n",
        "    for inputs, labels in train_loader:\n",
        "        inputs, labels = inputs.to(device), labels.to(device)\n",
        "\n",
        "        optimizer.zero_grad()\n",
        "        outputs = model(inputs)\n",
        "        loss = criterion(outputs, labels)\n",
        "        loss.backward()\n",
        "        optimizer.step()\n",
        "        running_loss += loss.item()\n",
        "\n",
        "        # Clear unused variables and cache\n",
        "        del inputs, labels, outputs, loss\n",
        "        torch.cuda.empty_cache()\n",
        "\n",
        "    print(f\"Epoch {epoch + 1}, Loss: {running_loss / len(train_loader):.4f}\")"
      ],
      "metadata": {
        "id": "6nLhSAJDR8WY"
      },
      "execution_count": null,
      "outputs": []
    },
    {
      "cell_type": "code",
      "source": [
        "model.eval()\n",
        "all_preds = []\n",
        "all_labels = []\n",
        "\n",
        "with torch.no_grad():\n",
        "    for inputs, labels in test_loader:\n",
        "        inputs, labels = inputs.to(device), labels.to(device)\n",
        "        outputs = model(inputs)\n",
        "        _, preds = torch.max(outputs, 1)\n",
        "        all_preds.extend(preds.cpu().numpy())\n",
        "        all_labels.extend(labels.cpu().numpy())\n",
        "\n",
        "# Compute relevant metrics and classification report\n",
        "# Accuracy\n",
        "accuracy = accuracy_score(all_labels, all_preds)\n",
        "\n",
        "# Precision\n",
        "precision = precision_score(all_labels, all_preds)\n",
        "\n",
        "# Recall\n",
        "recall = recall_score(all_labels, all_preds)\n",
        "\n",
        "# F1 Score\n",
        "f1 = f1_score(all_labels, all_preds)\n",
        "\n",
        "# AUC-ROC\n",
        "roc_auc = roc_auc_score(all_labels, all_probs)\n",
        "\n",
        "# Display metrics\n",
        "print(f\"Accuracy: {accuracy:.4f}\")\n",
        "print(f\"Precision: {precision:.4f}\")\n",
        "print(f\"Recall: {recall:.4f}\")\n",
        "print(f\"F1 Score: {f1:.4f}\")\n",
        "print(f\"AUC-ROC: {roc_auc:.4f}\")\n",
        "\n",
        "print(\"Classification Report:\")\n",
        "print(classification_report(all_labels, all_preds, target_names=[\"Not Sarcasm\", \"Sarcasm\"]))"
      ],
      "metadata": {
        "id": "kEWdaZx0maLH",
        "colab": {
          "base_uri": "https://localhost:8080/"
        },
        "outputId": "26356325-0827-4b7d-dc99-687c04307bf4"
      },
      "execution_count": null,
      "outputs": [
        {
          "output_type": "stream",
          "name": "stdout",
          "text": [
            "Accuracy: 0.5000\n",
            "Classification Report:\n",
            "              precision    recall  f1-score   support\n",
            "\n",
            " Not Sarcasm       1.00      0.03      0.05        71\n",
            "     Sarcasm       0.49      1.00      0.66        67\n",
            "\n",
            "    accuracy                           0.50       138\n",
            "   macro avg       0.75      0.51      0.36       138\n",
            "weighted avg       0.75      0.50      0.35       138\n",
            "\n"
          ]
        }
      ]
    },
    {
      "cell_type": "code",
      "source": [
        "# Compute ROC curve\n",
        "fpr, tpr, _ = roc_curve(all_labels, all_probs)\n",
        "\n",
        "# Plot the ROC curve\n",
        "plt.figure(figsize=(8, 6))\n",
        "plt.plot(fpr, tpr, label=f\"AUC-ROC = {roc_auc:.4f}\")\n",
        "plt.plot([0, 1], [0, 1], 'r--', label=\"Random Guess\")\n",
        "plt.xlabel(\"False Positive Rate\")\n",
        "plt.ylabel(\"True Positive Rate\")\n",
        "plt.title(\"ROC Curve\")\n",
        "plt.legend(loc=\"lower right\")\n",
        "plt.grid()\n",
        "plt.show()"
      ],
      "metadata": {
        "id": "xN7EIIFzen-U"
      },
      "execution_count": null,
      "outputs": []
    },
    {
      "cell_type": "code",
      "source": [
        "import matplotlib.pyplot as plt\n",
        "import seaborn as sns\n",
        "from sklearn.metrics import confusion_matrix\n",
        "\n",
        "# Function to plot confusion matrix\n",
        "def plot_confusion_matrix(y_true, y_pred, class_names):\n",
        "    cm = confusion_matrix(y_true, y_pred)\n",
        "    plt.figure(figsize=(10, 7))\n",
        "    sns.heatmap(cm, annot=True, fmt='d', cmap='Blues', xticklabels=class_names, yticklabels=class_names)\n",
        "    plt.xlabel('Predicted')\n",
        "    plt.ylabel('True')\n",
        "    plt.title('Confusion Matrix')\n",
        "    plt.show()\n",
        "\n",
        "plot_confusion_matrix(all_labels, all_preds, class_names=[\"Not Sarcasm\", \"Sarcasm\"])"
      ],
      "metadata": {
        "colab": {
          "base_uri": "https://localhost:8080/",
          "height": 641
        },
        "id": "_r24oaFrrtLi",
        "outputId": "504589da-ddf8-4d38-8118-695a095dc49d"
      },
      "execution_count": null,
      "outputs": [
        {
          "output_type": "display_data",
          "data": {
            "text/plain": [
              "<Figure size 1000x700 with 2 Axes>"
            ],
            "image/png": "[encoded data removed]"
          },
          "metadata": {}
        }
      ]
    }
  ]
}